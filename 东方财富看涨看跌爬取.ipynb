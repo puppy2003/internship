{
 "cells": [
  {
   "cell_type": "code",
   "execution_count": 42,
   "metadata": {},
   "outputs": [
    {
     "name": "stderr",
     "output_type": "stream",
     "text": [
      "100%|██████████| 5/5 [00:16<00:00,  3.22s/it]\n"
     ]
    },
    {
     "data": {
      "text/html": [
       "<div>\n",
       "<style scoped>\n",
       "    .dataframe tbody tr th:only-of-type {\n",
       "        vertical-align: middle;\n",
       "    }\n",
       "\n",
       "    .dataframe tbody tr th {\n",
       "        vertical-align: top;\n",
       "    }\n",
       "\n",
       "    .dataframe thead th {\n",
       "        text-align: right;\n",
       "    }\n",
       "</style>\n",
       "<table border=\"1\" class=\"dataframe\">\n",
       "  <thead>\n",
       "    <tr style=\"text-align: right;\">\n",
       "      <th></th>\n",
       "      <th>index_code</th>\n",
       "      <th>con_code</th>\n",
       "      <th>trade_date</th>\n",
       "      <th>weight</th>\n",
       "    </tr>\n",
       "  </thead>\n",
       "  <tbody>\n",
       "    <tr>\n",
       "      <th>0</th>\n",
       "      <td>000016.SH</td>\n",
       "      <td>600519.SH</td>\n",
       "      <td>20240830</td>\n",
       "      <td>13.420</td>\n",
       "    </tr>\n",
       "    <tr>\n",
       "      <th>1</th>\n",
       "      <td>000016.SH</td>\n",
       "      <td>601318.SH</td>\n",
       "      <td>20240830</td>\n",
       "      <td>7.016</td>\n",
       "    </tr>\n",
       "    <tr>\n",
       "      <th>2</th>\n",
       "      <td>000016.SH</td>\n",
       "      <td>600036.SH</td>\n",
       "      <td>20240830</td>\n",
       "      <td>5.891</td>\n",
       "    </tr>\n",
       "    <tr>\n",
       "      <th>3</th>\n",
       "      <td>000016.SH</td>\n",
       "      <td>600900.SH</td>\n",
       "      <td>20240830</td>\n",
       "      <td>5.321</td>\n",
       "    </tr>\n",
       "    <tr>\n",
       "      <th>4</th>\n",
       "      <td>000016.SH</td>\n",
       "      <td>601899.SH</td>\n",
       "      <td>20240830</td>\n",
       "      <td>3.902</td>\n",
       "    </tr>\n",
       "    <tr>\n",
       "      <th>...</th>\n",
       "      <td>...</td>\n",
       "      <td>...</td>\n",
       "      <td>...</td>\n",
       "      <td>...</td>\n",
       "    </tr>\n",
       "    <tr>\n",
       "      <th>4935</th>\n",
       "      <td>000985.SH</td>\n",
       "      <td>871857.BJ</td>\n",
       "      <td>20240830</td>\n",
       "      <td>0.001</td>\n",
       "    </tr>\n",
       "    <tr>\n",
       "      <th>4936</th>\n",
       "      <td>000985.SH</td>\n",
       "      <td>831856.BJ</td>\n",
       "      <td>20240830</td>\n",
       "      <td>0.000</td>\n",
       "    </tr>\n",
       "    <tr>\n",
       "      <th>4937</th>\n",
       "      <td>000985.SH</td>\n",
       "      <td>832145.BJ</td>\n",
       "      <td>20240830</td>\n",
       "      <td>0.000</td>\n",
       "    </tr>\n",
       "    <tr>\n",
       "      <th>4938</th>\n",
       "      <td>000985.SH</td>\n",
       "      <td>838275.BJ</td>\n",
       "      <td>20240830</td>\n",
       "      <td>0.000</td>\n",
       "    </tr>\n",
       "    <tr>\n",
       "      <th>4939</th>\n",
       "      <td>000985.SH</td>\n",
       "      <td>834765.BJ</td>\n",
       "      <td>20240830</td>\n",
       "      <td>0.000</td>\n",
       "    </tr>\n",
       "  </tbody>\n",
       "</table>\n",
       "<p>6790 rows × 4 columns</p>\n",
       "</div>"
      ],
      "text/plain": [
       "     index_code   con_code trade_date  weight\n",
       "0     000016.SH  600519.SH   20240830  13.420\n",
       "1     000016.SH  601318.SH   20240830   7.016\n",
       "2     000016.SH  600036.SH   20240830   5.891\n",
       "3     000016.SH  600900.SH   20240830   5.321\n",
       "4     000016.SH  601899.SH   20240830   3.902\n",
       "...         ...        ...        ...     ...\n",
       "4935  000985.SH  871857.BJ   20240830   0.001\n",
       "4936  000985.SH  831856.BJ   20240830   0.000\n",
       "4937  000985.SH  832145.BJ   20240830   0.000\n",
       "4938  000985.SH  838275.BJ   20240830   0.000\n",
       "4939  000985.SH  834765.BJ   20240830   0.000\n",
       "\n",
       "[6790 rows x 4 columns]"
      ]
     },
     "execution_count": 42,
     "metadata": {},
     "output_type": "execute_result"
    }
   ],
   "source": [
    "\"\"\"本代码完成由以下两部分组成（两个def）：\n",
    "1.通过tushare获取最新的若干指数的成份股的构成(tusahre接口需要自备)\n",
    "2.爬取最新的若干指数的成份股的看涨看跌数据，并保存到本地excel，单个sheet代表了单个指数下各个股票的看涨看跌情况\"\"\"\n",
    "import pandas as pd\n",
    "import numpy as np\n",
    "import requests\n",
    "import re\n",
    "from tqdm import tqdm\n",
    "import selenium\n",
    "import pymysql\n",
    "from datetime import datetime\n",
    "import schedule\n",
    "import time\n",
    "import tushare as ts\n",
    "import os\n",
    "\n",
    "base_url='https://eminterservice.eastmoney.com/UserData/GetWebTape?code='\n",
    "headers={\n",
    "    'user-agent': 'Mozilla/5.0 (Windows NT 10.0; Win64; x64) AppleWebKit/537.36 (KHTML, like Gecko) Chrome/109.0.0.0 Safari/537.36 SLBrowser/9.0.3.5211 SLBChan/25'\n",
    "}\n",
    "def components_history(index_file_path,tushare_token,index_tuple=['000016.SH','399300.sz','000905.SH','000852.SH','000985.SH']):\n",
    "\n",
    "    df=pd.DataFrame(columns=['index_code','con_code','trade_date','weight'])\n",
    "    for index in tqdm(index_tuple):\n",
    "        pro=ts.pro_api('20240522230128-4d87f31a-4782-400e-8400-ee063ffe55a5')\n",
    "        pro._DataApi__http_url = 'http://tsapi.majors.ltd:7000'\n",
    "\n",
    "        tem_df = pro.index_weight(index_code=index)\n",
    "        date=tem_df.iloc[0]['trade_date']\n",
    "        df=pd.concat([df,tem_df[tem_df['trade_date']==date]],axis=0)\n",
    "\n",
    "    df.to_csv(index_file_path)\n",
    "    index_tuple=tuple(df['index_code'].unique())\n",
    "    return df,index_tuple\n",
    "index_tuple=('000016.SH','399300.sz','000905.SH','000852.SH','000985.SH')\n",
    "df,index_tuple=components_history(r'D:\\作业\\实习工作相关\\清萍量化\\数据\\指数成分.csv',\n",
    "                      'd689cb3c1d8c8a618e49ca0bb64f4d6de2f70e28ab5f76a867b31ac7',\n",
    "                      index_tuple=index_tuple)\n",
    "df"
   ]
  },
  {
   "cell_type": "code",
   "execution_count": 51,
   "metadata": {},
   "outputs": [
    {
     "name": "stdout",
     "output_type": "stream",
     "text": [
      "Processing index: 000016.SH\n"
     ]
    },
    {
     "name": "stderr",
     "output_type": "stream",
     "text": [
      "  0%|          | 0/50 [00:00<?, ?it/s]"
     ]
    },
    {
     "name": "stderr",
     "output_type": "stream",
     "text": [
      "100%|██████████| 50/50 [00:02<00:00, 17.19it/s]\n"
     ]
    },
    {
     "name": "stdout",
     "output_type": "stream",
     "text": [
      "Processing index: 399300.sz\n"
     ]
    },
    {
     "name": "stderr",
     "output_type": "stream",
     "text": [
      "0it [00:00, ?it/s]\n"
     ]
    },
    {
     "name": "stdout",
     "output_type": "stream",
     "text": [
      "Processing index: 000905.SH\n"
     ]
    },
    {
     "name": "stderr",
     "output_type": "stream",
     "text": [
      "100%|██████████| 500/500 [00:32<00:00, 15.27it/s]\n"
     ]
    },
    {
     "name": "stdout",
     "output_type": "stream",
     "text": [
      "Processing index: 000852.SH\n"
     ]
    },
    {
     "name": "stderr",
     "output_type": "stream",
     "text": [
      "100%|██████████| 1000/1000 [01:00<00:00, 16.53it/s]\n"
     ]
    },
    {
     "name": "stdout",
     "output_type": "stream",
     "text": [
      "Processing index: 000985.SH\n"
     ]
    },
    {
     "name": "stderr",
     "output_type": "stream",
     "text": [
      "100%|██████████| 4940/4940 [05:08<00:00, 16.04it/s]\n"
     ]
    },
    {
     "name": "stdout",
     "output_type": "stream",
     "text": [
      "           code   TapeZ   TapeD TapeType        Date\n",
      "0     600519.SH  0.2047  0.7953        0  2024-09-07\n",
      "1     300750.SZ  0.5445  0.4555        0  2024-09-07\n",
      "2     601318.SH  0.5543  0.4457        0  2024-09-07\n",
      "3     600036.SH  0.5387  0.4613        0  2024-09-07\n",
      "4     600900.SH   0.459   0.541        0  2024-09-07\n",
      "...         ...     ...     ...      ...         ...\n",
      "4935  871857.BJ  0.3165  0.6835        0  2024-09-07\n",
      "4936  831856.BJ  0.2582  0.7418        0  2024-09-07\n",
      "4937  832145.BJ  0.2521  0.7479        0  2024-09-07\n",
      "4938  838275.BJ  0.2032  0.7968        0  2024-09-07\n",
      "4939  834765.BJ  0.2893  0.7107        0  2024-09-07\n",
      "\n",
      "[4940 rows x 5 columns]\n"
     ]
    }
   ],
   "source": [
    "\n",
    "\n",
    "def web_tape(base_url, component_df, index_tuple=['000016.SH', '399300.sz', '000905.SH', '000852.SH', '000985.SH'],\n",
    "             save_path=None, headers=None):\n",
    "    # 创建一个ExcelWriter对象来保存到同一个Excel文件\n",
    "    writer = pd.ExcelWriter(save_path, engine='xlsxwriter') if save_path else None\n",
    "\n",
    "    for i in index_tuple:\n",
    "        print(f\"Processing index: {i}\")\n",
    "        df = pd.DataFrame(columns=['code', 'TapeZ', 'TapeD', 'TapeType', 'Date'])\n",
    "        \n",
    "        # 获取当前指数对应的股票代码\n",
    "        code_tuple = tuple(component_df[component_df['index_code'] == i]['con_code'])\n",
    "        \n",
    "        for code in tqdm(code_tuple):\n",
    "            # 修改代码字符串格式\n",
    "            \n",
    "            temcode = code[-2:].lower() + code[:-3]\n",
    "            url = base_url + temcode\n",
    "\n",
    "            # 请求数据\n",
    "            r = requests.get(url, headers=headers)\n",
    "            pattern = re.findall(r'\"TapeZ\":(.*?),\"TapeD\":(.*?),\"TapeType\":(.*?),\"Date\":\"(.*?)\"', r.text)\n",
    "            if pattern:\n",
    "                # 组织数据\n",
    "                code_list = [code]\n",
    "                code_list.extend(pattern[0])\n",
    "                code_list=[code_list]\n",
    "            else:\n",
    "                print(f\"指数{i}下面的{code}存在无法匹配情况，请检查\")\n",
    "\n",
    "\n",
    "            \n",
    "            df = pd.concat([df, pd.DataFrame(code_list,columns=['code', 'TapeZ', 'TapeD', 'TapeType', 'Date'])], axis=0).reset_index(drop=True)\n",
    "        \n",
    "        # 将当前DataFrame写入到Excel的一个Sheet中\n",
    "        if writer:\n",
    "            df.to_excel(writer, sheet_name=i, index=False)\n",
    "            #writer.close()    \n",
    "    # 保存Excel文件\n",
    "    if writer:\n",
    "        writer.close()\n",
    "\n",
    "    return df\n",
    "\n",
    "base_url = 'https://eminterservice.eastmoney.com/UserData/GetWebTape?code='\n",
    "headers = {\n",
    "    'user-agent': 'Mozilla/5.0 (Windows NT 10.0; Win64; x64) AppleWebKit/537.36 (KHTML, like Gecko) Chrome/109.0.0.0 Safari/537.36 SLBrowser/9.0.3.5211 SLBChan/25'\n",
    "}\n",
    "\n",
    "# 假设 df 是事先加载的DataFrame\n",
    "tape_df = web_tape(base_url, df, index_tuple=['000016.SH', '399300.sz', '000905.SH', '000852.SH', '000985.SH'], \n",
    "                   save_path=r'D:\\作业\\实习工作相关\\清萍量化\\数据\\涨跌看法数据.xlsx', headers=headers)\n",
    "\n",
    "print(tape_df)\n"
   ]
  }
 ],
 "metadata": {
  "kernelspec": {
   "display_name": "a",
   "language": "python",
   "name": "python3"
  },
  "language_info": {
   "codemirror_mode": {
    "name": "ipython",
    "version": 3
   },
   "file_extension": ".py",
   "mimetype": "text/x-python",
   "name": "python",
   "nbconvert_exporter": "python",
   "pygments_lexer": "ipython3",
   "version": "3.9.16"
  },
  "orig_nbformat": 4
 },
 "nbformat": 4,
 "nbformat_minor": 2
}
